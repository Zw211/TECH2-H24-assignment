{
 "cells": [
  {
   "cell_type": "markdown",
   "metadata": {},
   "source": [
    "# TECH 2 mandatory assignment - Part B\n",
    "\n",
    "Write your solution for Part B in this notebook."
   ]
  },
  {
   "cell_type": "code",
   "execution_count": 3,
   "metadata": {},
   "outputs": [],
   "source": [
    "# importing the file\n",
    "f = open(\"data.csv\", \"r\")\n",
    "\n",
    "col1 = []\n",
    "col2 = []\n",
    "col3 = []\n",
    "\n",
    "for x in f:\n",
    "    # split line by coma\n",
    "    line_arr = x.split(\",\")\n",
    "\n",
    "    # if not an empty string, append to array\n",
    "    if(line_arr[0] != \"\"):\n",
    "        col1.append(float(line_arr[0]))\n",
    "    if(line_arr[1] != \"\"):\n",
    "        col2.append(float(line_arr[1]))\n",
    "    if(line_arr[2] != \"\"):\n",
    "        col3.append(float(line_arr[2]))\n",
    "\n",
    "def std_loops(x):\n",
    "    # parameters \n",
    "    N = 0\n",
    "    sum = 0\n",
    "    sum_sqrd = 0 \n",
    "\n",
    "    # summing the sequence for mean\n",
    "    for el in x:\n",
    "        N += 1\n",
    "        sum += el\n",
    "\n",
    "    # summing the sequence for mean of squares\n",
    "    for el in x:\n",
    "        sum_sqrd += el ** 2\n",
    "\n",
    "    # calculate mean and mean of squares\n",
    "    mean = (1 / N) * sum\n",
    "    mean_of_sqrs = (1 / N) * sum_sqrd \n",
    "    \n",
    "    # calculate variance and standsrd deviation\n",
    "    variance = (mean_of_sqrs - mean ** 2) \n",
    "    sd = variance ** (1/2)\n",
    "\n",
    "    return sd \n",
    "\n",
    "def std_builtin(x):\n",
    "    # parameters\n",
    "    N = len(x) \n",
    "    sum_x = sum(x)\n",
    "    sum_x_sqrd = sum(e*e for e in x)\n",
    "\n",
    "    # calculate mean and mean of squares\n",
    "    mean = (1 / N) * sum_x\n",
    "    mean_of_sqrs = (1 / N) * sum_x_sqrd \n",
    "    \n",
    "    # calculate variance and standsrd deviation\n",
    "    variance = (mean_of_sqrs - mean ** 2) \n",
    "    sd = variance ** (1/2)\n",
    "\n",
    "    return sd "
   ]
  },
  {
   "cell_type": "code",
   "execution_count": null,
   "metadata": {},
   "outputs": [],
   "source": []
  },
  {
   "cell_type": "code",
   "execution_count": 49,
   "metadata": {},
   "outputs": [
    {
     "name": "stdout",
     "output_type": "stream",
     "text": [
      "5.68 μs ± 3.53 ns per loop (mean ± std. dev. of 7 runs, 100,000 loops each)\n",
      "50.3 μs ± 56.1 ns per loop (mean ± std. dev. of 7 runs, 10,000 loops each)\n",
      "502 μs ± 496 ns per loop (mean ± std. dev. of 7 runs, 1,000 loops each)\n",
      "10.5 μs ± 16.6 ns per loop (mean ± std. dev. of 7 runs, 100,000 loops each)\n",
      "111 μs ± 150 ns per loop (mean ± std. dev. of 7 runs, 10,000 loops each)\n",
      "1.14 ms ± 6.18 μs per loop (mean ± std. dev. of 7 runs, 1,000 loops each)\n",
      "15.8 μs ± 27.6 ns per loop (mean ± std. dev. of 7 runs, 100,000 loops each)\n",
      "51.9 μs ± 73.6 ns per loop (mean ± std. dev. of 7 runs, 10,000 loops each)\n",
      "400 μs ± 436 ns per loop (mean ± std. dev. of 7 runs, 1,000 loops each)\n"
     ]
    }
   ],
   "source": [
    "import numpy as np\n",
    "\n",
    "%timeit std_builtin(col1)\n",
    "%timeit std_builtin(col2)\n",
    "%timeit std_builtin(col3)\n",
    "\n",
    "%timeit std_loops(col1)\n",
    "%timeit std_loops(col2)\n",
    "%timeit std_loops(col3)\n",
    "\n",
    "%timeit np.std(col1)\n",
    "%timeit np.std(col2)\n",
    "%timeit np.std(col3)"
   ]
  }
 ],
 "metadata": {
  "kernelspec": {
   "display_name": "Python 3 (ipykernel)",
   "language": "python",
   "name": "python3"
  },
  "language_info": {
   "codemirror_mode": {
    "name": "ipython",
    "version": 3
   },
   "file_extension": ".py",
   "mimetype": "text/x-python",
   "name": "python",
   "nbconvert_exporter": "python",
   "pygments_lexer": "ipython3",
   "version": "3.12.4"
  }
 },
 "nbformat": 4,
 "nbformat_minor": 4
}
